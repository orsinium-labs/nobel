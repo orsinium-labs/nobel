{
 "cells": [
  {
   "cell_type": "code",
   "execution_count": 1,
   "metadata": {},
   "outputs": [],
   "source": [
    "import json\n",
    "from collections import Counter\n",
    "from datetime import datetime\n",
    "\n",
    "import seaborn\n",
    "import pandas\n",
    "import matplotlib.pyplot as plt\n",
    "from IPython.display import HTML, display\n",
    "import tabulate"
   ]
  },
  {
   "cell_type": "markdown",
   "metadata": {},
   "source": [
    "## Read and prepare data"
   ]
  },
  {
   "cell_type": "markdown",
   "metadata": {},
   "source": [
    "### JSON source"
   ]
  },
  {
   "cell_type": "code",
   "execution_count": 2,
   "metadata": {},
   "outputs": [],
   "source": [
    "# parsers for dates\n",
    "\n",
    "def parse_date(date):\n",
    "    if not isinstance(date, str):\n",
    "        return date\n",
    "    if not date:\n",
    "        return\n",
    "    if date[-2:] == '00':\n",
    "        return\n",
    "    return datetime.strptime(date, '%Y-%m-%d').date()\n",
    "\n",
    "def parse_year(date):\n",
    "    if not isinstance(date, str):\n",
    "        return date\n",
    "    if not date:\n",
    "        return\n",
    "    if date == '0000':\n",
    "        return\n",
    "    return parse_date(date + '-12-10')"
   ]
  },
  {
   "cell_type": "code",
   "execution_count": 3,
   "metadata": {},
   "outputs": [],
   "source": [
    "# read JSON\n",
    "laureates = json.load(open('data.json'))['laureates']"
   ]
  },
  {
   "cell_type": "code",
   "execution_count": 4,
   "metadata": {},
   "outputs": [],
   "source": [
    "# drop some empty records\n",
    "laureates = [laureate for laureate in laureates if 'firstname' in laureate]\n",
    "\n",
    "# convert dates and ints\n",
    "for laureate in laureates:\n",
    "    laureate['id'] = int(laureate['id'])\n",
    "    for col in ('born', 'died'):\n",
    "        laureate[col] = parse_date(laureate[col])\n",
    "    for prize in laureate['prizes']:\n",
    "        try:\n",
    "            prize['share'] = int(prize['share'])\n",
    "            prize['year'] = parse_year(prize['year'])\n",
    "        except:\n",
    "            print(laureate)"
   ]
  },
  {
   "cell_type": "code",
   "execution_count": 5,
   "metadata": {},
   "outputs": [
    {
     "data": {
      "text/plain": [
       "{'id': 1,\n",
       " 'firstname': 'Wilhelm Conrad',\n",
       " 'surname': 'Röntgen',\n",
       " 'born': datetime.date(1845, 3, 27),\n",
       " 'died': datetime.date(1923, 2, 10),\n",
       " 'bornCountry': 'Prussia (now Germany)',\n",
       " 'bornCountryCode': 'DE',\n",
       " 'bornCity': 'Lennep (now Remscheid)',\n",
       " 'diedCountry': 'Germany',\n",
       " 'diedCountryCode': 'DE',\n",
       " 'diedCity': 'Munich',\n",
       " 'gender': 'male',\n",
       " 'prizes': [{'year': datetime.date(1901, 12, 10),\n",
       "   'category': 'physics',\n",
       "   'share': 1,\n",
       "   'motivation': '\"in recognition of the extraordinary services he has rendered by the discovery of the remarkable rays subsequently named after him\"',\n",
       "   'affiliations': [{'name': 'Munich University',\n",
       "     'city': 'Munich',\n",
       "     'country': 'Germany'}]}]}"
      ]
     },
     "execution_count": 5,
     "metadata": {},
     "output_type": "execute_result"
    }
   ],
   "source": [
    "laureates[0]"
   ]
  },
  {
   "cell_type": "markdown",
   "metadata": {},
   "source": [
    "### Laureates DataFrame"
   ]
  },
  {
   "cell_type": "code",
   "execution_count": 6,
   "metadata": {},
   "outputs": [],
   "source": [
    "data = []\n",
    "for laureate in laureates:\n",
    "    line = laureate.copy()\n",
    "    line['prizes'] = len(line['prizes'])\n",
    "    data.append(line)\n",
    "laureates_df = pandas.DataFrame(data)\n",
    "\n",
    "# reorder cols\n",
    "laureates_df = laureates_df[[\n",
    "    'id', 'firstname', 'surname', 'gender', 'prizes',\n",
    "    'born', 'bornCity', 'bornCountryCode', 'died', 'diedCity', 'diedCountryCode',\n",
    "]]"
   ]
  },
  {
   "cell_type": "code",
   "execution_count": 7,
   "metadata": {},
   "outputs": [
    {
     "data": {
      "text/html": [
       "<div>\n",
       "<style scoped>\n",
       "    .dataframe tbody tr th:only-of-type {\n",
       "        vertical-align: middle;\n",
       "    }\n",
       "\n",
       "    .dataframe tbody tr th {\n",
       "        vertical-align: top;\n",
       "    }\n",
       "\n",
       "    .dataframe thead th {\n",
       "        text-align: right;\n",
       "    }\n",
       "</style>\n",
       "<table border=\"1\" class=\"dataframe\">\n",
       "  <thead>\n",
       "    <tr style=\"text-align: right;\">\n",
       "      <th></th>\n",
       "      <th>id</th>\n",
       "      <th>firstname</th>\n",
       "      <th>surname</th>\n",
       "      <th>gender</th>\n",
       "      <th>prizes</th>\n",
       "      <th>born</th>\n",
       "      <th>bornCity</th>\n",
       "      <th>bornCountryCode</th>\n",
       "      <th>died</th>\n",
       "      <th>diedCity</th>\n",
       "      <th>diedCountryCode</th>\n",
       "    </tr>\n",
       "  </thead>\n",
       "  <tbody>\n",
       "    <tr>\n",
       "      <th>0</th>\n",
       "      <td>1</td>\n",
       "      <td>Wilhelm Conrad</td>\n",
       "      <td>Röntgen</td>\n",
       "      <td>male</td>\n",
       "      <td>1</td>\n",
       "      <td>1845-03-27</td>\n",
       "      <td>Lennep (now Remscheid)</td>\n",
       "      <td>DE</td>\n",
       "      <td>1923-02-10</td>\n",
       "      <td>Munich</td>\n",
       "      <td>DE</td>\n",
       "    </tr>\n",
       "    <tr>\n",
       "      <th>1</th>\n",
       "      <td>2</td>\n",
       "      <td>Hendrik Antoon</td>\n",
       "      <td>Lorentz</td>\n",
       "      <td>male</td>\n",
       "      <td>1</td>\n",
       "      <td>1853-07-18</td>\n",
       "      <td>Arnhem</td>\n",
       "      <td>NL</td>\n",
       "      <td>1928-02-04</td>\n",
       "      <td>NaN</td>\n",
       "      <td>NL</td>\n",
       "    </tr>\n",
       "    <tr>\n",
       "      <th>2</th>\n",
       "      <td>3</td>\n",
       "      <td>Pieter</td>\n",
       "      <td>Zeeman</td>\n",
       "      <td>male</td>\n",
       "      <td>1</td>\n",
       "      <td>1865-05-25</td>\n",
       "      <td>Zonnemaire</td>\n",
       "      <td>NL</td>\n",
       "      <td>1943-10-09</td>\n",
       "      <td>Amsterdam</td>\n",
       "      <td>NL</td>\n",
       "    </tr>\n",
       "    <tr>\n",
       "      <th>3</th>\n",
       "      <td>4</td>\n",
       "      <td>Antoine Henri</td>\n",
       "      <td>Becquerel</td>\n",
       "      <td>male</td>\n",
       "      <td>1</td>\n",
       "      <td>1852-12-15</td>\n",
       "      <td>Paris</td>\n",
       "      <td>FR</td>\n",
       "      <td>1908-08-25</td>\n",
       "      <td>NaN</td>\n",
       "      <td>FR</td>\n",
       "    </tr>\n",
       "    <tr>\n",
       "      <th>4</th>\n",
       "      <td>5</td>\n",
       "      <td>Pierre</td>\n",
       "      <td>Curie</td>\n",
       "      <td>male</td>\n",
       "      <td>1</td>\n",
       "      <td>1859-05-15</td>\n",
       "      <td>Paris</td>\n",
       "      <td>FR</td>\n",
       "      <td>1906-04-19</td>\n",
       "      <td>Paris</td>\n",
       "      <td>FR</td>\n",
       "    </tr>\n",
       "  </tbody>\n",
       "</table>\n",
       "</div>"
      ],
      "text/plain": [
       "   id       firstname    surname gender  prizes        born  \\\n",
       "0   1  Wilhelm Conrad    Röntgen   male       1  1845-03-27   \n",
       "1   2  Hendrik Antoon    Lorentz   male       1  1853-07-18   \n",
       "2   3          Pieter     Zeeman   male       1  1865-05-25   \n",
       "3   4   Antoine Henri  Becquerel   male       1  1852-12-15   \n",
       "4   5          Pierre      Curie   male       1  1859-05-15   \n",
       "\n",
       "                 bornCity bornCountryCode        died   diedCity  \\\n",
       "0  Lennep (now Remscheid)              DE  1923-02-10     Munich   \n",
       "1                  Arnhem              NL  1928-02-04        NaN   \n",
       "2              Zonnemaire              NL  1943-10-09  Amsterdam   \n",
       "3                   Paris              FR  1908-08-25        NaN   \n",
       "4                   Paris              FR  1906-04-19      Paris   \n",
       "\n",
       "  diedCountryCode  \n",
       "0              DE  \n",
       "1              NL  \n",
       "2              NL  \n",
       "3              FR  \n",
       "4              FR  "
      ]
     },
     "execution_count": 7,
     "metadata": {},
     "output_type": "execute_result"
    }
   ],
   "source": [
    "laureates_df.head()"
   ]
  },
  {
   "cell_type": "markdown",
   "metadata": {},
   "source": [
    "### Prizes DataFrame"
   ]
  },
  {
   "cell_type": "code",
   "execution_count": 8,
   "metadata": {},
   "outputs": [],
   "source": [
    "data = []\n",
    "for laureate in laureates:\n",
    "    for prize in laureate['prizes']:\n",
    "        line = prize.copy()\n",
    "        line.update(laureate)\n",
    "        for col in ('affiliations', 'prizes', 'diedCountry', 'bornCountry', 'overallMotivation'):\n",
    "            if col in line:\n",
    "                del line[col]\n",
    "        data.append(line)\n",
    "prizes_df = pandas.DataFrame(data)\n",
    "\n",
    "# reorder cols\n",
    "prizes_df = prizes_df[[\n",
    "    'id', 'firstname', 'surname', 'gender', 'year', 'category', 'share',\n",
    "    'born', 'bornCity', 'bornCountryCode', 'died', 'diedCity', 'diedCountryCode',\n",
    "]]"
   ]
  },
  {
   "cell_type": "code",
   "execution_count": 9,
   "metadata": {},
   "outputs": [
    {
     "data": {
      "text/html": [
       "<div>\n",
       "<style scoped>\n",
       "    .dataframe tbody tr th:only-of-type {\n",
       "        vertical-align: middle;\n",
       "    }\n",
       "\n",
       "    .dataframe tbody tr th {\n",
       "        vertical-align: top;\n",
       "    }\n",
       "\n",
       "    .dataframe thead th {\n",
       "        text-align: right;\n",
       "    }\n",
       "</style>\n",
       "<table border=\"1\" class=\"dataframe\">\n",
       "  <thead>\n",
       "    <tr style=\"text-align: right;\">\n",
       "      <th></th>\n",
       "      <th>id</th>\n",
       "      <th>firstname</th>\n",
       "      <th>surname</th>\n",
       "      <th>gender</th>\n",
       "      <th>year</th>\n",
       "      <th>category</th>\n",
       "      <th>share</th>\n",
       "      <th>born</th>\n",
       "      <th>bornCity</th>\n",
       "      <th>bornCountryCode</th>\n",
       "      <th>died</th>\n",
       "      <th>diedCity</th>\n",
       "      <th>diedCountryCode</th>\n",
       "    </tr>\n",
       "  </thead>\n",
       "  <tbody>\n",
       "    <tr>\n",
       "      <th>0</th>\n",
       "      <td>1</td>\n",
       "      <td>Wilhelm Conrad</td>\n",
       "      <td>Röntgen</td>\n",
       "      <td>male</td>\n",
       "      <td>1901-12-10</td>\n",
       "      <td>physics</td>\n",
       "      <td>1</td>\n",
       "      <td>1845-03-27</td>\n",
       "      <td>Lennep (now Remscheid)</td>\n",
       "      <td>DE</td>\n",
       "      <td>1923-02-10</td>\n",
       "      <td>Munich</td>\n",
       "      <td>DE</td>\n",
       "    </tr>\n",
       "    <tr>\n",
       "      <th>1</th>\n",
       "      <td>2</td>\n",
       "      <td>Hendrik Antoon</td>\n",
       "      <td>Lorentz</td>\n",
       "      <td>male</td>\n",
       "      <td>1902-12-10</td>\n",
       "      <td>physics</td>\n",
       "      <td>2</td>\n",
       "      <td>1853-07-18</td>\n",
       "      <td>Arnhem</td>\n",
       "      <td>NL</td>\n",
       "      <td>1928-02-04</td>\n",
       "      <td>NaN</td>\n",
       "      <td>NL</td>\n",
       "    </tr>\n",
       "    <tr>\n",
       "      <th>2</th>\n",
       "      <td>3</td>\n",
       "      <td>Pieter</td>\n",
       "      <td>Zeeman</td>\n",
       "      <td>male</td>\n",
       "      <td>1902-12-10</td>\n",
       "      <td>physics</td>\n",
       "      <td>2</td>\n",
       "      <td>1865-05-25</td>\n",
       "      <td>Zonnemaire</td>\n",
       "      <td>NL</td>\n",
       "      <td>1943-10-09</td>\n",
       "      <td>Amsterdam</td>\n",
       "      <td>NL</td>\n",
       "    </tr>\n",
       "    <tr>\n",
       "      <th>3</th>\n",
       "      <td>4</td>\n",
       "      <td>Antoine Henri</td>\n",
       "      <td>Becquerel</td>\n",
       "      <td>male</td>\n",
       "      <td>1903-12-10</td>\n",
       "      <td>physics</td>\n",
       "      <td>2</td>\n",
       "      <td>1852-12-15</td>\n",
       "      <td>Paris</td>\n",
       "      <td>FR</td>\n",
       "      <td>1908-08-25</td>\n",
       "      <td>NaN</td>\n",
       "      <td>FR</td>\n",
       "    </tr>\n",
       "    <tr>\n",
       "      <th>4</th>\n",
       "      <td>5</td>\n",
       "      <td>Pierre</td>\n",
       "      <td>Curie</td>\n",
       "      <td>male</td>\n",
       "      <td>1903-12-10</td>\n",
       "      <td>physics</td>\n",
       "      <td>4</td>\n",
       "      <td>1859-05-15</td>\n",
       "      <td>Paris</td>\n",
       "      <td>FR</td>\n",
       "      <td>1906-04-19</td>\n",
       "      <td>Paris</td>\n",
       "      <td>FR</td>\n",
       "    </tr>\n",
       "  </tbody>\n",
       "</table>\n",
       "</div>"
      ],
      "text/plain": [
       "   id       firstname    surname gender        year category  share  \\\n",
       "0   1  Wilhelm Conrad    Röntgen   male  1901-12-10  physics      1   \n",
       "1   2  Hendrik Antoon    Lorentz   male  1902-12-10  physics      2   \n",
       "2   3          Pieter     Zeeman   male  1902-12-10  physics      2   \n",
       "3   4   Antoine Henri  Becquerel   male  1903-12-10  physics      2   \n",
       "4   5          Pierre      Curie   male  1903-12-10  physics      4   \n",
       "\n",
       "         born                bornCity bornCountryCode        died   diedCity  \\\n",
       "0  1845-03-27  Lennep (now Remscheid)              DE  1923-02-10     Munich   \n",
       "1  1853-07-18                  Arnhem              NL  1928-02-04        NaN   \n",
       "2  1865-05-25              Zonnemaire              NL  1943-10-09  Amsterdam   \n",
       "3  1852-12-15                   Paris              FR  1908-08-25        NaN   \n",
       "4  1859-05-15                   Paris              FR  1906-04-19      Paris   \n",
       "\n",
       "  diedCountryCode  \n",
       "0              DE  \n",
       "1              NL  \n",
       "2              NL  \n",
       "3              FR  \n",
       "4              FR  "
      ]
     },
     "execution_count": 9,
     "metadata": {},
     "output_type": "execute_result"
    }
   ],
   "source": [
    "prizes_df.head()"
   ]
  },
  {
   "cell_type": "markdown",
   "metadata": {},
   "source": [
    "## Analyze"
   ]
  },
  {
   "cell_type": "markdown",
   "metadata": {},
   "source": [
    "### Gender"
   ]
  },
  {
   "cell_type": "code",
   "execution_count": 10,
   "metadata": {},
   "outputs": [
    {
     "data": {
      "image/png": "[encoded data removed]",
      "text/plain": [
       "<Figure size 432x288 with 1 Axes>"
      ]
     },
     "metadata": {},
     "output_type": "display_data"
    }
   ],
   "source": [
    "# start from pie\n",
    "c = Counter([l['gender'] for l in laureates]).most_common()\n",
    "plt.pie(x=list(zip(*c))[1], labels=list(zip(*c))[0], autopct='%1.1f%%')\n",
    "plt.show()"
   ]
  },
  {
   "cell_type": "code",
   "execution_count": 11,
   "metadata": {},
   "outputs": [
    {
     "data": {
      "text/html": [
       "<table>\n",
       "<tbody>\n",
       "<tr><td>male  </td><td style=\"text-align: right;\">853</td></tr>\n",
       "<tr><td>female</td><td style=\"text-align: right;\"> 51</td></tr>\n",
       "<tr><td>org   </td><td style=\"text-align: right;\"> 24</td></tr>\n",
       "</tbody>\n",
       "</table>"
      ],
      "text/plain": [
       "<IPython.core.display.HTML object>"
      ]
     },
     "execution_count": 11,
     "metadata": {},
     "output_type": "execute_result"
    }
   ],
   "source": [
    "HTML(tabulate.tabulate(c, tablefmt='html'))"
   ]
  },
  {
   "cell_type": "code",
   "execution_count": 12,
   "metadata": {},
   "outputs": [
    {
     "data": {
      "text/html": [
       "<div>\n",
       "<style scoped>\n",
       "    .dataframe tbody tr th:only-of-type {\n",
       "        vertical-align: middle;\n",
       "    }\n",
       "\n",
       "    .dataframe tbody tr th {\n",
       "        vertical-align: top;\n",
       "    }\n",
       "\n",
       "    .dataframe thead th {\n",
       "        text-align: right;\n",
       "    }\n",
       "</style>\n",
       "<table border=\"1\" class=\"dataframe\">\n",
       "  <thead>\n",
       "    <tr style=\"text-align: right;\">\n",
       "      <th></th>\n",
       "      <th>firstname</th>\n",
       "      <th>surname</th>\n",
       "      <th>prizes</th>\n",
       "      <th>born</th>\n",
       "    </tr>\n",
       "  </thead>\n",
       "  <tbody>\n",
       "    <tr>\n",
       "      <th>5</th>\n",
       "      <td>Marie</td>\n",
       "      <td>Curie, née Sklodowska</td>\n",
       "      <td>2</td>\n",
       "      <td>1867-11-07</td>\n",
       "    </tr>\n",
       "    <tr>\n",
       "      <th>77</th>\n",
       "      <td>Maria</td>\n",
       "      <td>Goeppert Mayer</td>\n",
       "      <td>1</td>\n",
       "      <td>1906-06-28</td>\n",
       "    </tr>\n",
       "    <tr>\n",
       "      <th>189</th>\n",
       "      <td>Irène</td>\n",
       "      <td>Joliot-Curie</td>\n",
       "      <td>1</td>\n",
       "      <td>1897-09-12</td>\n",
       "    </tr>\n",
       "    <tr>\n",
       "      <th>225</th>\n",
       "      <td>Dorothy Crowfoot</td>\n",
       "      <td>Hodgkin</td>\n",
       "      <td>1</td>\n",
       "      <td>1910-05-12</td>\n",
       "    </tr>\n",
       "    <tr>\n",
       "      <th>338</th>\n",
       "      <td>Gerty Theresa</td>\n",
       "      <td>Cori, née Radnitz</td>\n",
       "      <td>1</td>\n",
       "      <td>1896-08-15</td>\n",
       "    </tr>\n",
       "    <tr>\n",
       "      <th>407</th>\n",
       "      <td>Rosalyn</td>\n",
       "      <td>Yalow</td>\n",
       "      <td>1</td>\n",
       "      <td>1921-07-19</td>\n",
       "    </tr>\n",
       "    <tr>\n",
       "      <th>422</th>\n",
       "      <td>Barbara</td>\n",
       "      <td>McClintock</td>\n",
       "      <td>1</td>\n",
       "      <td>1902-06-16</td>\n",
       "    </tr>\n",
       "    <tr>\n",
       "      <th>429</th>\n",
       "      <td>Rita</td>\n",
       "      <td>Levi-Montalcini</td>\n",
       "      <td>1</td>\n",
       "      <td>1909-04-22</td>\n",
       "    </tr>\n",
       "    <tr>\n",
       "      <th>432</th>\n",
       "      <td>Gertrude B.</td>\n",
       "      <td>Elion</td>\n",
       "      <td>1</td>\n",
       "      <td>1918-01-23</td>\n",
       "    </tr>\n",
       "    <tr>\n",
       "      <th>447</th>\n",
       "      <td>Christiane</td>\n",
       "      <td>Nüsslein-Volhard</td>\n",
       "      <td>1</td>\n",
       "      <td>1942-10-20</td>\n",
       "    </tr>\n",
       "    <tr>\n",
       "      <th>462</th>\n",
       "      <td>Baroness Bertha Sophie Felicita</td>\n",
       "      <td>von Suttner, née Countess Kinsky von Chinic un...</td>\n",
       "      <td>1</td>\n",
       "      <td>1843-06-09</td>\n",
       "    </tr>\n",
       "    <tr>\n",
       "      <th>489</th>\n",
       "      <td>Jane</td>\n",
       "      <td>Addams</td>\n",
       "      <td>1</td>\n",
       "      <td>1860-09-06</td>\n",
       "    </tr>\n",
       "    <tr>\n",
       "      <th>498</th>\n",
       "      <td>Emily Greene</td>\n",
       "      <td>Balch</td>\n",
       "      <td>1</td>\n",
       "      <td>1867-01-08</td>\n",
       "    </tr>\n",
       "    <tr>\n",
       "      <th>525</th>\n",
       "      <td>Betty</td>\n",
       "      <td>Williams</td>\n",
       "      <td>1</td>\n",
       "      <td>1943-05-22</td>\n",
       "    </tr>\n",
       "    <tr>\n",
       "      <th>526</th>\n",
       "      <td>Mairead</td>\n",
       "      <td>Corrigan</td>\n",
       "      <td>1</td>\n",
       "      <td>1944-01-27</td>\n",
       "    </tr>\n",
       "    <tr>\n",
       "      <th>530</th>\n",
       "      <td>Mother Teresa</td>\n",
       "      <td>NaN</td>\n",
       "      <td>1</td>\n",
       "      <td>1910-08-26</td>\n",
       "    </tr>\n",
       "    <tr>\n",
       "      <th>532</th>\n",
       "      <td>Alva</td>\n",
       "      <td>Myrdal</td>\n",
       "      <td>1</td>\n",
       "      <td>1902-01-31</td>\n",
       "    </tr>\n",
       "    <tr>\n",
       "      <th>542</th>\n",
       "      <td>Aung San Suu Kyi</td>\n",
       "      <td>NaN</td>\n",
       "      <td>1</td>\n",
       "      <td>1945-06-19</td>\n",
       "    </tr>\n",
       "    <tr>\n",
       "      <th>543</th>\n",
       "      <td>Rigoberta</td>\n",
       "      <td>Menchú Tum</td>\n",
       "      <td>1</td>\n",
       "      <td>1959-01-09</td>\n",
       "    </tr>\n",
       "    <tr>\n",
       "      <th>554</th>\n",
       "      <td>Jody</td>\n",
       "      <td>Williams</td>\n",
       "      <td>1</td>\n",
       "      <td>1950-10-09</td>\n",
       "    </tr>\n",
       "    <tr>\n",
       "      <th>567</th>\n",
       "      <td>Selma Ottilia Lovisa</td>\n",
       "      <td>Lagerlöf</td>\n",
       "      <td>1</td>\n",
       "      <td>1858-11-20</td>\n",
       "    </tr>\n",
       "    <tr>\n",
       "      <th>583</th>\n",
       "      <td>Grazia</td>\n",
       "      <td>Deledda</td>\n",
       "      <td>1</td>\n",
       "      <td>1871-09-27</td>\n",
       "    </tr>\n",
       "    <tr>\n",
       "      <th>585</th>\n",
       "      <td>Sigrid</td>\n",
       "      <td>Undset</td>\n",
       "      <td>1</td>\n",
       "      <td>1882-05-20</td>\n",
       "    </tr>\n",
       "    <tr>\n",
       "      <th>594</th>\n",
       "      <td>Pearl</td>\n",
       "      <td>Buck</td>\n",
       "      <td>1</td>\n",
       "      <td>1892-06-26</td>\n",
       "    </tr>\n",
       "    <tr>\n",
       "      <th>597</th>\n",
       "      <td>Gabriela</td>\n",
       "      <td>Mistral</td>\n",
       "      <td>1</td>\n",
       "      <td>1889-04-07</td>\n",
       "    </tr>\n",
       "    <tr>\n",
       "      <th>619</th>\n",
       "      <td>Nelly</td>\n",
       "      <td>Sachs</td>\n",
       "      <td>1</td>\n",
       "      <td>1891-12-10</td>\n",
       "    </tr>\n",
       "    <tr>\n",
       "      <th>645</th>\n",
       "      <td>Nadine</td>\n",
       "      <td>Gordimer</td>\n",
       "      <td>1</td>\n",
       "      <td>1923-11-20</td>\n",
       "    </tr>\n",
       "    <tr>\n",
       "      <th>647</th>\n",
       "      <td>Toni</td>\n",
       "      <td>Morrison</td>\n",
       "      <td>1</td>\n",
       "      <td>1931-02-18</td>\n",
       "    </tr>\n",
       "    <tr>\n",
       "      <th>650</th>\n",
       "      <td>Wislawa</td>\n",
       "      <td>Szymborska</td>\n",
       "      <td>1</td>\n",
       "      <td>1923-07-02</td>\n",
       "    </tr>\n",
       "    <tr>\n",
       "      <th>750</th>\n",
       "      <td>Shirin</td>\n",
       "      <td>Ebadi</td>\n",
       "      <td>1</td>\n",
       "      <td>1947-06-21</td>\n",
       "    </tr>\n",
       "    <tr>\n",
       "      <th>752</th>\n",
       "      <td>Linda B.</td>\n",
       "      <td>Buck</td>\n",
       "      <td>1</td>\n",
       "      <td>1947-01-29</td>\n",
       "    </tr>\n",
       "    <tr>\n",
       "      <th>759</th>\n",
       "      <td>Elfriede</td>\n",
       "      <td>Jelinek</td>\n",
       "      <td>1</td>\n",
       "      <td>1946-10-20</td>\n",
       "    </tr>\n",
       "    <tr>\n",
       "      <th>760</th>\n",
       "      <td>Wangari Muta</td>\n",
       "      <td>Maathai</td>\n",
       "      <td>1</td>\n",
       "      <td>1940-04-01</td>\n",
       "    </tr>\n",
       "    <tr>\n",
       "      <th>791</th>\n",
       "      <td>Doris</td>\n",
       "      <td>Lessing</td>\n",
       "      <td>1</td>\n",
       "      <td>1919-10-22</td>\n",
       "    </tr>\n",
       "    <tr>\n",
       "      <th>798</th>\n",
       "      <td>Françoise</td>\n",
       "      <td>Barré-Sinoussi</td>\n",
       "      <td>1</td>\n",
       "      <td>1947-07-30</td>\n",
       "    </tr>\n",
       "    <tr>\n",
       "      <th>809</th>\n",
       "      <td>Elizabeth H.</td>\n",
       "      <td>Blackburn</td>\n",
       "      <td>1</td>\n",
       "      <td>1948-11-26</td>\n",
       "    </tr>\n",
       "    <tr>\n",
       "      <th>810</th>\n",
       "      <td>Carol W.</td>\n",
       "      <td>Greider</td>\n",
       "      <td>1</td>\n",
       "      <td>1961-04-15</td>\n",
       "    </tr>\n",
       "    <tr>\n",
       "      <th>817</th>\n",
       "      <td>Ada E.</td>\n",
       "      <td>Yonath</td>\n",
       "      <td>1</td>\n",
       "      <td>1939-06-22</td>\n",
       "    </tr>\n",
       "    <tr>\n",
       "      <th>818</th>\n",
       "      <td>Herta</td>\n",
       "      <td>Müller</td>\n",
       "      <td>1</td>\n",
       "      <td>1953-08-17</td>\n",
       "    </tr>\n",
       "    <tr>\n",
       "      <th>820</th>\n",
       "      <td>Elinor</td>\n",
       "      <td>Ostrom</td>\n",
       "      <td>1</td>\n",
       "      <td>1933-08-07</td>\n",
       "    </tr>\n",
       "    <tr>\n",
       "      <th>841</th>\n",
       "      <td>Ellen</td>\n",
       "      <td>Johnson Sirleaf</td>\n",
       "      <td>1</td>\n",
       "      <td>1938-10-29</td>\n",
       "    </tr>\n",
       "    <tr>\n",
       "      <th>842</th>\n",
       "      <td>Leymah</td>\n",
       "      <td>Gbowee</td>\n",
       "      <td>1</td>\n",
       "      <td>1972-02-01</td>\n",
       "    </tr>\n",
       "    <tr>\n",
       "      <th>843</th>\n",
       "      <td>Tawakkol</td>\n",
       "      <td>Karman</td>\n",
       "      <td>1</td>\n",
       "      <td>1979-02-07</td>\n",
       "    </tr>\n",
       "    <tr>\n",
       "      <th>864</th>\n",
       "      <td>Alice</td>\n",
       "      <td>Munro</td>\n",
       "      <td>1</td>\n",
       "      <td>1931-07-10</td>\n",
       "    </tr>\n",
       "    <tr>\n",
       "      <th>870</th>\n",
       "      <td>May-Britt</td>\n",
       "      <td>Moser</td>\n",
       "      <td>1</td>\n",
       "      <td>1963-01-04</td>\n",
       "    </tr>\n",
       "    <tr>\n",
       "      <th>880</th>\n",
       "      <td>Malala</td>\n",
       "      <td>Yousafzai</td>\n",
       "      <td>1</td>\n",
       "      <td>1997-07-12</td>\n",
       "    </tr>\n",
       "    <tr>\n",
       "      <th>884</th>\n",
       "      <td>Youyou</td>\n",
       "      <td>Tu</td>\n",
       "      <td>1</td>\n",
       "      <td>1930-12-30</td>\n",
       "    </tr>\n",
       "    <tr>\n",
       "      <th>890</th>\n",
       "      <td>Svetlana</td>\n",
       "      <td>Alexievich</td>\n",
       "      <td>1</td>\n",
       "      <td>1948-05-31</td>\n",
       "    </tr>\n",
       "    <tr>\n",
       "      <th>920</th>\n",
       "      <td>Donna</td>\n",
       "      <td>Strickland</td>\n",
       "      <td>1</td>\n",
       "      <td>None</td>\n",
       "    </tr>\n",
       "    <tr>\n",
       "      <th>921</th>\n",
       "      <td>Frances H.</td>\n",
       "      <td>Arnold</td>\n",
       "      <td>1</td>\n",
       "      <td>1956-07-25</td>\n",
       "    </tr>\n",
       "    <tr>\n",
       "      <th>925</th>\n",
       "      <td>Nadia</td>\n",
       "      <td>Murad</td>\n",
       "      <td>1</td>\n",
       "      <td>None</td>\n",
       "    </tr>\n",
       "  </tbody>\n",
       "</table>\n",
       "</div>"
      ],
      "text/plain": [
       "                           firstname  \\\n",
       "5                              Marie   \n",
       "77                             Maria   \n",
       "189                            Irène   \n",
       "225                 Dorothy Crowfoot   \n",
       "338                    Gerty Theresa   \n",
       "407                          Rosalyn   \n",
       "422                          Barbara   \n",
       "429                             Rita   \n",
       "432                      Gertrude B.   \n",
       "447                       Christiane   \n",
       "462  Baroness Bertha Sophie Felicita   \n",
       "489                             Jane   \n",
       "498                     Emily Greene   \n",
       "525                            Betty   \n",
       "526                          Mairead   \n",
       "530                    Mother Teresa   \n",
       "532                             Alva   \n",
       "542                 Aung San Suu Kyi   \n",
       "543                        Rigoberta   \n",
       "554                             Jody   \n",
       "567             Selma Ottilia Lovisa   \n",
       "583                           Grazia   \n",
       "585                           Sigrid   \n",
       "594                            Pearl   \n",
       "597                         Gabriela   \n",
       "619                            Nelly   \n",
       "645                           Nadine   \n",
       "647                             Toni   \n",
       "650                          Wislawa   \n",
       "750                           Shirin   \n",
       "752                         Linda B.   \n",
       "759                         Elfriede   \n",
       "760                     Wangari Muta   \n",
       "791                            Doris   \n",
       "798                        Françoise   \n",
       "809                     Elizabeth H.   \n",
       "810                         Carol W.   \n",
       "817                           Ada E.   \n",
       "818                            Herta   \n",
       "820                           Elinor   \n",
       "841                            Ellen   \n",
       "842                           Leymah   \n",
       "843                         Tawakkol   \n",
       "864                            Alice   \n",
       "870                        May-Britt   \n",
       "880                           Malala   \n",
       "884                           Youyou   \n",
       "890                         Svetlana   \n",
       "920                            Donna   \n",
       "921                       Frances H.   \n",
       "925                            Nadia   \n",
       "\n",
       "                                               surname  prizes        born  \n",
       "5                                Curie, née Sklodowska       2  1867-11-07  \n",
       "77                                      Goeppert Mayer       1  1906-06-28  \n",
       "189                                       Joliot-Curie       1  1897-09-12  \n",
       "225                                            Hodgkin       1  1910-05-12  \n",
       "338                                  Cori, née Radnitz       1  1896-08-15  \n",
       "407                                              Yalow       1  1921-07-19  \n",
       "422                                         McClintock       1  1902-06-16  \n",
       "429                                    Levi-Montalcini       1  1909-04-22  \n",
       "432                                              Elion       1  1918-01-23  \n",
       "447                                   Nüsslein-Volhard       1  1942-10-20  \n",
       "462  von Suttner, née Countess Kinsky von Chinic un...       1  1843-06-09  \n",
       "489                                             Addams       1  1860-09-06  \n",
       "498                                              Balch       1  1867-01-08  \n",
       "525                                           Williams       1  1943-05-22  \n",
       "526                                           Corrigan       1  1944-01-27  \n",
       "530                                                NaN       1  1910-08-26  \n",
       "532                                             Myrdal       1  1902-01-31  \n",
       "542                                                NaN       1  1945-06-19  \n",
       "543                                         Menchú Tum       1  1959-01-09  \n",
       "554                                           Williams       1  1950-10-09  \n",
       "567                                           Lagerlöf       1  1858-11-20  \n",
       "583                                            Deledda       1  1871-09-27  \n",
       "585                                             Undset       1  1882-05-20  \n",
       "594                                               Buck       1  1892-06-26  \n",
       "597                                            Mistral       1  1889-04-07  \n",
       "619                                              Sachs       1  1891-12-10  \n",
       "645                                           Gordimer       1  1923-11-20  \n",
       "647                                           Morrison       1  1931-02-18  \n",
       "650                                         Szymborska       1  1923-07-02  \n",
       "750                                              Ebadi       1  1947-06-21  \n",
       "752                                               Buck       1  1947-01-29  \n",
       "759                                            Jelinek       1  1946-10-20  \n",
       "760                                            Maathai       1  1940-04-01  \n",
       "791                                            Lessing       1  1919-10-22  \n",
       "798                                     Barré-Sinoussi       1  1947-07-30  \n",
       "809                                          Blackburn       1  1948-11-26  \n",
       "810                                            Greider       1  1961-04-15  \n",
       "817                                             Yonath       1  1939-06-22  \n",
       "818                                             Müller       1  1953-08-17  \n",
       "820                                             Ostrom       1  1933-08-07  \n",
       "841                                    Johnson Sirleaf       1  1938-10-29  \n",
       "842                                             Gbowee       1  1972-02-01  \n",
       "843                                             Karman       1  1979-02-07  \n",
       "864                                              Munro       1  1931-07-10  \n",
       "870                                              Moser       1  1963-01-04  \n",
       "880                                          Yousafzai       1  1997-07-12  \n",
       "884                                                 Tu       1  1930-12-30  \n",
       "890                                         Alexievich       1  1948-05-31  \n",
       "920                                         Strickland       1        None  \n",
       "921                                             Arnold       1  1956-07-25  \n",
       "925                                              Murad       1        None  "
      ]
     },
     "execution_count": 12,
     "metadata": {},
     "output_type": "execute_result"
    }
   ],
   "source": [
    "# let's see women\n",
    "laureates_df[laureates_df.gender == 'female'][['firstname', 'surname', 'prizes', 'born']]"
   ]
  },
  {
   "cell_type": "markdown",
   "metadata": {},
   "source": [
    "### Age"
   ]
  },
  {
   "cell_type": "code",
   "execution_count": 13,
   "metadata": {},
   "outputs": [
    {
     "data": {
      "text/plain": [
       "<matplotlib.axes._subplots.AxesSubplot at 0x7f0019778a20>"
      ]
     },
     "execution_count": 13,
     "metadata": {},
     "output_type": "execute_result"
    },
    {
     "data": {
      "image/png": "[encoded data removed]",
      "text/plain": [
       "<Figure size 432x288 with 1 Axes>"
      ]
     },
     "metadata": {
      "needs_background": "light"
     },
     "output_type": "display_data"
    }
   ],
   "source": [
    "prizes_df['age'] = prizes_df.apply(lambda line: line['born'] and (line['year'] - line['born']).days / 365, axis='columns')\n",
    "seaborn.boxplot(prizes_df['age'])"
   ]
  },
  {
   "cell_type": "code",
   "execution_count": 14,
   "metadata": {},
   "outputs": [
    {
     "data": {
      "text/html": [
       "<div>\n",
       "<style scoped>\n",
       "    .dataframe tbody tr th:only-of-type {\n",
       "        vertical-align: middle;\n",
       "    }\n",
       "\n",
       "    .dataframe tbody tr th {\n",
       "        vertical-align: top;\n",
       "    }\n",
       "\n",
       "    .dataframe thead th {\n",
       "        text-align: right;\n",
       "    }\n",
       "</style>\n",
       "<table border=\"1\" class=\"dataframe\">\n",
       "  <thead>\n",
       "    <tr style=\"text-align: right;\">\n",
       "      <th></th>\n",
       "      <th>firstname</th>\n",
       "      <th>surname</th>\n",
       "      <th>category</th>\n",
       "      <th>age</th>\n",
       "    </tr>\n",
       "  </thead>\n",
       "  <tbody>\n",
       "    <tr>\n",
       "      <th>887</th>\n",
       "      <td>Malala</td>\n",
       "      <td>Yousafzai</td>\n",
       "      <td>peace</td>\n",
       "      <td>17.424658</td>\n",
       "    </tr>\n",
       "    <tr>\n",
       "      <th>20</th>\n",
       "      <td>William Lawrence</td>\n",
       "      <td>Bragg</td>\n",
       "      <td>physics</td>\n",
       "      <td>25.709589</td>\n",
       "    </tr>\n",
       "    <tr>\n",
       "      <th>37</th>\n",
       "      <td>Werner Karl</td>\n",
       "      <td>Heisenberg</td>\n",
       "      <td>physics</td>\n",
       "      <td>31.035616</td>\n",
       "    </tr>\n",
       "    <tr>\n",
       "      <th>69</th>\n",
       "      <td>Tsung-Dao (T.D.)</td>\n",
       "      <td>Lee</td>\n",
       "      <td>physics</td>\n",
       "      <td>31.065753</td>\n",
       "    </tr>\n",
       "    <tr>\n",
       "      <th>42</th>\n",
       "      <td>Carl David</td>\n",
       "      <td>Anderson</td>\n",
       "      <td>physics</td>\n",
       "      <td>31.290411</td>\n",
       "    </tr>\n",
       "  </tbody>\n",
       "</table>\n",
       "</div>"
      ],
      "text/plain": [
       "            firstname     surname category        age\n",
       "887            Malala   Yousafzai    peace  17.424658\n",
       "20   William Lawrence       Bragg  physics  25.709589\n",
       "37        Werner Karl  Heisenberg  physics  31.035616\n",
       "69   Tsung-Dao (T.D.)         Lee  physics  31.065753\n",
       "42         Carl David    Anderson  physics  31.290411"
      ]
     },
     "execution_count": 14,
     "metadata": {},
     "output_type": "execute_result"
    }
   ],
   "source": [
    "# sort by age\n",
    "tmp = prizes_df.sort_values('age')\n",
    "# drop nans\n",
    "tmp = tmp[tmp['age'] > 0]\n",
    "\n",
    "# youngest\n",
    "tmp[['firstname', 'surname', 'category', 'age']].head()"
   ]
  },
  {
   "cell_type": "code",
   "execution_count": 15,
   "metadata": {},
   "outputs": [
    {
     "data": {
      "text/html": [
       "<div>\n",
       "<style scoped>\n",
       "    .dataframe tbody tr th:only-of-type {\n",
       "        vertical-align: middle;\n",
       "    }\n",
       "\n",
       "    .dataframe tbody tr th {\n",
       "        vertical-align: top;\n",
       "    }\n",
       "\n",
       "    .dataframe thead th {\n",
       "        text-align: right;\n",
       "    }\n",
       "</style>\n",
       "<table border=\"1\" class=\"dataframe\">\n",
       "  <thead>\n",
       "    <tr style=\"text-align: right;\">\n",
       "      <th></th>\n",
       "      <th>firstname</th>\n",
       "      <th>surname</th>\n",
       "      <th>category</th>\n",
       "      <th>age</th>\n",
       "    </tr>\n",
       "  </thead>\n",
       "  <tbody>\n",
       "    <tr>\n",
       "      <th>798</th>\n",
       "      <td>Doris</td>\n",
       "      <td>Lessing</td>\n",
       "      <td>literature</td>\n",
       "      <td>88.194521</td>\n",
       "    </tr>\n",
       "    <tr>\n",
       "      <th>737</th>\n",
       "      <td>Raymond</td>\n",
       "      <td>Davis Jr.</td>\n",
       "      <td>physics</td>\n",
       "      <td>88.216438</td>\n",
       "    </tr>\n",
       "    <tr>\n",
       "      <th>862</th>\n",
       "      <td>Lloyd S.</td>\n",
       "      <td>Shapley</td>\n",
       "      <td>economics</td>\n",
       "      <td>89.586301</td>\n",
       "    </tr>\n",
       "    <tr>\n",
       "      <th>801</th>\n",
       "      <td>Leonid</td>\n",
       "      <td>Hurwicz</td>\n",
       "      <td>economics</td>\n",
       "      <td>90.364384</td>\n",
       "    </tr>\n",
       "    <tr>\n",
       "      <th>925</th>\n",
       "      <td>Arthur</td>\n",
       "      <td>Ashkin</td>\n",
       "      <td>physics</td>\n",
       "      <td>96.336986</td>\n",
       "    </tr>\n",
       "  </tbody>\n",
       "</table>\n",
       "</div>"
      ],
      "text/plain": [
       "    firstname    surname    category        age\n",
       "798     Doris    Lessing  literature  88.194521\n",
       "737   Raymond  Davis Jr.     physics  88.216438\n",
       "862  Lloyd S.    Shapley   economics  89.586301\n",
       "801    Leonid    Hurwicz   economics  90.364384\n",
       "925    Arthur     Ashkin     physics  96.336986"
      ]
     },
     "execution_count": 15,
     "metadata": {},
     "output_type": "execute_result"
    }
   ],
   "source": [
    "# oldest\n",
    "tmp[['firstname', 'surname', 'category', 'age']].tail()"
   ]
  },
  {
   "cell_type": "markdown",
   "metadata": {},
   "source": [
    "### Prizes"
   ]
  },
  {
   "cell_type": "code",
   "execution_count": 16,
   "metadata": {},
   "outputs": [
    {
     "data": {
      "text/html": [
       "<div>\n",
       "<style scoped>\n",
       "    .dataframe tbody tr th:only-of-type {\n",
       "        vertical-align: middle;\n",
       "    }\n",
       "\n",
       "    .dataframe tbody tr th {\n",
       "        vertical-align: top;\n",
       "    }\n",
       "\n",
       "    .dataframe thead th {\n",
       "        text-align: right;\n",
       "    }\n",
       "</style>\n",
       "<table border=\"1\" class=\"dataframe\">\n",
       "  <thead>\n",
       "    <tr style=\"text-align: right;\">\n",
       "      <th></th>\n",
       "      <th>id</th>\n",
       "      <th>firstname</th>\n",
       "      <th>surname</th>\n",
       "      <th>gender</th>\n",
       "      <th>prizes</th>\n",
       "      <th>born</th>\n",
       "      <th>bornCity</th>\n",
       "      <th>bornCountryCode</th>\n",
       "      <th>died</th>\n",
       "      <th>diedCity</th>\n",
       "      <th>diedCountryCode</th>\n",
       "    </tr>\n",
       "  </thead>\n",
       "  <tbody>\n",
       "    <tr>\n",
       "      <th>5</th>\n",
       "      <td>6</td>\n",
       "      <td>Marie</td>\n",
       "      <td>Curie, née Sklodowska</td>\n",
       "      <td>female</td>\n",
       "      <td>2</td>\n",
       "      <td>1867-11-07</td>\n",
       "      <td>Warsaw</td>\n",
       "      <td>PL</td>\n",
       "      <td>1934-07-04</td>\n",
       "      <td>Sallanches</td>\n",
       "      <td>FR</td>\n",
       "    </tr>\n",
       "    <tr>\n",
       "      <th>64</th>\n",
       "      <td>66</td>\n",
       "      <td>John</td>\n",
       "      <td>Bardeen</td>\n",
       "      <td>male</td>\n",
       "      <td>2</td>\n",
       "      <td>1908-05-23</td>\n",
       "      <td>Madison, WI</td>\n",
       "      <td>US</td>\n",
       "      <td>1991-01-30</td>\n",
       "      <td>Boston, MA</td>\n",
       "      <td>US</td>\n",
       "    </tr>\n",
       "    <tr>\n",
       "      <th>212</th>\n",
       "      <td>217</td>\n",
       "      <td>Linus Carl</td>\n",
       "      <td>Pauling</td>\n",
       "      <td>male</td>\n",
       "      <td>2</td>\n",
       "      <td>1901-02-28</td>\n",
       "      <td>Portland, OR</td>\n",
       "      <td>US</td>\n",
       "      <td>1994-08-19</td>\n",
       "      <td>Big Sur, CA</td>\n",
       "      <td>US</td>\n",
       "    </tr>\n",
       "    <tr>\n",
       "      <th>217</th>\n",
       "      <td>222</td>\n",
       "      <td>Frederick</td>\n",
       "      <td>Sanger</td>\n",
       "      <td>male</td>\n",
       "      <td>2</td>\n",
       "      <td>1918-08-13</td>\n",
       "      <td>Rendcombe</td>\n",
       "      <td>GB</td>\n",
       "      <td>2013-11-19</td>\n",
       "      <td>Cambridge</td>\n",
       "      <td>GB</td>\n",
       "    </tr>\n",
       "    <tr>\n",
       "      <th>475</th>\n",
       "      <td>482</td>\n",
       "      <td>Comité international de la Croix Rouge (Intern...</td>\n",
       "      <td>NaN</td>\n",
       "      <td>org</td>\n",
       "      <td>3</td>\n",
       "      <td>None</td>\n",
       "      <td>NaN</td>\n",
       "      <td>NaN</td>\n",
       "      <td>None</td>\n",
       "      <td>NaN</td>\n",
       "      <td>NaN</td>\n",
       "    </tr>\n",
       "    <tr>\n",
       "      <th>507</th>\n",
       "      <td>515</td>\n",
       "      <td>Office of the United Nations High Commissioner...</td>\n",
       "      <td>NaN</td>\n",
       "      <td>org</td>\n",
       "      <td>2</td>\n",
       "      <td>None</td>\n",
       "      <td>NaN</td>\n",
       "      <td>NaN</td>\n",
       "      <td>None</td>\n",
       "      <td>NaN</td>\n",
       "      <td>NaN</td>\n",
       "    </tr>\n",
       "  </tbody>\n",
       "</table>\n",
       "</div>"
      ],
      "text/plain": [
       "      id                                          firstname  \\\n",
       "5      6                                              Marie   \n",
       "64    66                                               John   \n",
       "212  217                                         Linus Carl   \n",
       "217  222                                          Frederick   \n",
       "475  482  Comité international de la Croix Rouge (Intern...   \n",
       "507  515  Office of the United Nations High Commissioner...   \n",
       "\n",
       "                   surname  gender  prizes        born      bornCity  \\\n",
       "5    Curie, née Sklodowska  female       2  1867-11-07        Warsaw   \n",
       "64                 Bardeen    male       2  1908-05-23   Madison, WI   \n",
       "212                Pauling    male       2  1901-02-28  Portland, OR   \n",
       "217                 Sanger    male       2  1918-08-13     Rendcombe   \n",
       "475                    NaN     org       3        None           NaN   \n",
       "507                    NaN     org       2        None           NaN   \n",
       "\n",
       "    bornCountryCode        died     diedCity diedCountryCode  \n",
       "5                PL  1934-07-04   Sallanches              FR  \n",
       "64               US  1991-01-30   Boston, MA              US  \n",
       "212              US  1994-08-19  Big Sur, CA              US  \n",
       "217              GB  2013-11-19    Cambridge              GB  \n",
       "475             NaN        None          NaN             NaN  \n",
       "507             NaN        None          NaN             NaN  "
      ]
     },
     "execution_count": 16,
     "metadata": {},
     "output_type": "execute_result"
    }
   ],
   "source": [
    "laureates_df[laureates_df['prizes'] > 1]"
   ]
  },
  {
   "cell_type": "markdown",
   "metadata": {},
   "source": [
    "### Countries"
   ]
  },
  {
   "cell_type": "code",
   "execution_count": 17,
   "metadata": {},
   "outputs": [
    {
     "data": {
      "image/png": "[encoded data removed]",
      "text/plain": [
       "<Figure size 432x288 with 1 Axes>"
      ]
     },
     "metadata": {},
     "output_type": "display_data"
    }
   ],
   "source": [
    "tmp = laureates_df[~laureates_df['diedCountryCode'].isnull()]\n",
    "tmp = tmp[~tmp['bornCountryCode'].isnull()]\n",
    "\n",
    "expates = tmp[tmp['diedCountryCode'] != tmp['bornCountryCode']]\n",
    "patriotes = laureates_df[laureates_df['diedCountryCode'] != laureates_df['bornCountryCode']]\n",
    "\n",
    "plt.pie(x=[len(expates), len(patriotes)], labels=['expates', 'patriotes'], autopct='%1.1f%%')\n",
    "plt.show()"
   ]
  },
  {
   "cell_type": "code",
   "execution_count": 18,
   "metadata": {},
   "outputs": [
    {
     "data": {
      "text/plain": [
       "<matplotlib.axes._subplots.AxesSubplot at 0x7f001981e4e0>"
      ]
     },
     "execution_count": 18,
     "metadata": {},
     "output_type": "execute_result"
    },
    {
     "data": {
      "image/png": "[encoded data removed]",
      "text/plain": [
       "<Figure size 432x288 with 1 Axes>"
      ]
     },
     "metadata": {
      "needs_background": "light"
     },
     "output_type": "display_data"
    }
   ],
   "source": [
    "# top countries to work and die\n",
    "\n",
    "c = Counter(expates['diedCountryCode']).most_common(5)\n",
    "seaborn.barplot(data=pandas.DataFrame(c, columns=('country', 'count')), x='count', y='country')"
   ]
  },
  {
   "cell_type": "code",
   "execution_count": 19,
   "metadata": {},
   "outputs": [
    {
     "data": {
      "text/plain": [
       "<matplotlib.axes._subplots.AxesSubplot at 0x7f00174f60f0>"
      ]
     },
     "execution_count": 19,
     "metadata": {},
     "output_type": "execute_result"
    },
    {
     "data": {
      "image/png": "[encoded data removed]",
      "text/plain": [
       "<Figure size 432x288 with 1 Axes>"
      ]
     },
     "metadata": {
      "needs_background": "light"
     },
     "output_type": "display_data"
    }
   ],
   "source": [
    "# top countries to leave\n",
    "\n",
    "c = Counter(expates['bornCountryCode']).most_common(5)\n",
    "seaborn.barplot(data=pandas.DataFrame(c, columns=('country', 'count')), x='count', y='country')"
   ]
  },
  {
   "cell_type": "code",
   "execution_count": 20,
   "metadata": {},
   "outputs": [
    {
     "data": {
      "text/plain": [
       "<matplotlib.axes._subplots.AxesSubplot at 0x7f00196f5cf8>"
      ]
     },
     "execution_count": 20,
     "metadata": {},
     "output_type": "execute_result"
    },
    {
     "data": {
      "image/png": "[encoded data removed]",
      "text/plain": [
       "<Figure size 432x288 with 1 Axes>"
      ]
     },
     "metadata": {
      "needs_background": "light"
     },
     "output_type": "display_data"
    }
   ],
   "source": [
    "# top countries to never leave\n",
    "\n",
    "c = Counter(patriotes['diedCountryCode']).most_common(5)\n",
    "seaborn.barplot(data=pandas.DataFrame(c, columns=('country', 'count')), x='count', y='country')"
   ]
  },
  {
   "cell_type": "code",
   "execution_count": 21,
   "metadata": {},
   "outputs": [
    {
     "data": {
      "text/plain": [
       "<matplotlib.axes._subplots.AxesSubplot at 0x7f001742d940>"
      ]
     },
     "execution_count": 21,
     "metadata": {},
     "output_type": "execute_result"
    },
    {
     "data": {
      "image/png": "[encoded data removed]",
      "text/plain": [
       "<Figure size 432x288 with 1 Axes>"
      ]
     },
     "metadata": {
      "needs_background": "light"
     },
     "output_type": "display_data"
    }
   ],
   "source": [
    "# top countries to get nobel prize\n",
    "\n",
    "c = Counter(prizes_df[~prizes_df['diedCountryCode'].isnull()]['diedCountryCode']).most_common(5)\n",
    "seaborn.barplot(data=pandas.DataFrame(c, columns=('country', 'count')), x='count', y='country')"
   ]
  },
  {
   "cell_type": "markdown",
   "metadata": {},
   "source": [
    "## Clasterize"
   ]
  },
  {
   "cell_type": "code",
   "execution_count": 29,
   "metadata": {},
   "outputs": [],
   "source": [
    "from sklearn.neighbors import KNeighborsClassifier\n",
    "from sklearn.model_selection import train_test_split, StratifiedKFold\n",
    "from sklearn.metrics import accuracy_score\n",
    "from sklearn.model_selection import GridSearchCV, cross_val_score\n",
    "from sklearn.pipeline import Pipeline\n",
    "from sklearn.preprocessing import StandardScaler"
   ]
  },
  {
   "cell_type": "code",
   "execution_count": 54,
   "metadata": {},
   "outputs": [],
   "source": [
    "df = prizes_df.copy()\n",
    "for col in ('bornCountryCode', 'diedCountryCode'):\n",
    "    df[col] = pandas.factorize(df[col])[0]\n",
    "df['diedAge'] = prizes_df.apply(lambda line: line['born'] and line['died'] and (line['died'] - line['born']).days / 365, axis='columns')\n"
   ]
  },
  {
   "cell_type": "code",
   "execution_count": 55,
   "metadata": {},
   "outputs": [],
   "source": [
    "x = df[['bornCountryCode', 'diedCountryCode', 'age', 'diedAge']]\n",
    "\n",
    "x['age'].interpolate(inplace=True)\n",
    "x['diedAge'].interpolate(inplace=True)\n",
    "\n",
    "for col in ('bornCountryCode', 'diedCountryCode'):\n",
    "    x[col].fillna(x[col].mode()[0])"
   ]
  },
  {
   "cell_type": "code",
   "execution_count": 65,
   "metadata": {},
   "outputs": [],
   "source": [
    "y = df['category']\n",
    "\n",
    "\n",
    "# cross-validation gives similar accuracy to holdout, so we can use all dataset for training\n",
    "# x_train = x\n",
    "# y_train = y\n",
    "\n",
    "x_train, x_holdout, y_train, y_holdout = train_test_split(x.values, y, test_size=0.3)"
   ]
  },
  {
   "cell_type": "code",
   "execution_count": 66,
   "metadata": {},
   "outputs": [],
   "source": [
    "pipe = Pipeline([('scaler', StandardScaler()), ('knn', KNeighborsClassifier(n_jobs=-1))])\n",
    "grid = GridSearchCV(pipe, {'knn__n_neighbors': range(1, 10)}, cv=5, n_jobs=-1)"
   ]
  },
  {
   "cell_type": "code",
   "execution_count": 67,
   "metadata": {},
   "outputs": [
    {
     "data": {
      "text/plain": [
       "GridSearchCV(cv=5, error_score='raise-deprecating',\n",
       "       estimator=Pipeline(memory=None,\n",
       "     steps=[('scaler', StandardScaler(copy=True, with_mean=True, with_std=True)), ('knn', KNeighborsClassifier(algorithm='auto', leaf_size=30, metric='minkowski',\n",
       "           metric_params=None, n_jobs=-1, n_neighbors=5, p=2,\n",
       "           weights='uniform'))]),\n",
       "       fit_params=None, iid='warn', n_jobs=-1,\n",
       "       param_grid={'knn__n_neighbors': range(1, 10)},\n",
       "       pre_dispatch='2*n_jobs', refit=True, return_train_score='warn',\n",
       "       scoring=None, verbose=0)"
      ]
     },
     "execution_count": 67,
     "metadata": {},
     "output_type": "execute_result"
    }
   ],
   "source": [
    "grid.fit(x_train, y_train)"
   ]
  },
  {
   "cell_type": "code",
   "execution_count": 68,
   "metadata": {},
   "outputs": [
    {
     "data": {
      "text/plain": [
       "({'knn__n_neighbors': 4}, 0.2966360856269113)"
      ]
     },
     "execution_count": 68,
     "metadata": {},
     "output_type": "execute_result"
    }
   ],
   "source": [
    "grid.best_params_, grid.best_score_"
   ]
  },
  {
   "cell_type": "code",
   "execution_count": 69,
   "metadata": {},
   "outputs": [
    {
     "data": {
      "text/plain": [
       "0.31316725978647686"
      ]
     },
     "execution_count": 69,
     "metadata": {},
     "output_type": "execute_result"
    }
   ],
   "source": [
    "accuracy_score(y_holdout, grid.predict(x_holdout))"
   ]
  },
  {
   "cell_type": "markdown",
   "metadata": {},
   "source": [
    "kNN classifier gives low accuracy. Of course, we can't get more data (however, we can analyze not only Nobel Prize winners). So, we need more features. Maybe, height, weight, university size, access to supercomputers etc can give much better result."
   ]
  },
  {
   "cell_type": "code",
   "execution_count": null,
   "metadata": {},
   "outputs": [],
   "source": []
  }
 ],
 "metadata": {
  "kernelspec": {
   "display_name": "Python 3",
   "language": "python",
   "name": "python3"
  },
  "language_info": {
   "codemirror_mode": {
    "name": "ipython",
    "version": 3
   },
   "file_extension": ".py",
   "mimetype": "text/x-python",
   "name": "python",
   "nbconvert_exporter": "python",
   "pygments_lexer": "ipython3",
   "version": "3.6.7"
  }
 },
 "nbformat": 4,
 "nbformat_minor": 2
}
